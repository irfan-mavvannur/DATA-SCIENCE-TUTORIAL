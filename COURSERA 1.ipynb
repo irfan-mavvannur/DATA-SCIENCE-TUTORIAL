{
 "cells": [
  {
   "cell_type": "markdown",
   "id": "b4410f24",
   "metadata": {},
   "source": [
    "# Data Science Tools and Ecosystem\n"
   ]
  },
  {
   "cell_type": "markdown",
   "id": "61237914",
   "metadata": {},
   "source": [
    "In this notebook, Data Science Tools and Ecosystem are summarized."
   ]
  },
  {
   "cell_type": "markdown",
   "id": "fbf506e3",
   "metadata": {},
   "source": [
    " <br>some of the popular languages that Data Scientists use are:\n",
    "    <ul>\n",
    "    <li>1.R language</li>\n",
    "    <li>2.python</li>\n",
    "    <li> 3.sql</li>\n",
    "    </ul>"
   ]
  },
  {
   "cell_type": "markdown",
   "id": "8fc7f663",
   "metadata": {},
   "source": [
    "<br>Some of the commonly used libraries used by Data Scientists include:\n",
    "<ul>\n",
    "    <li>Tensor flow</li>\n",
    "    <li>Numpy</li>\n",
    "    <li>Keras</li>\n",
    "    <li>SciPy</li>\n",
    "    <li>Pandas</li>\n",
    "</ul>"
   ]
  },
  {
   "cell_type": "markdown",
   "id": "b0162cfa",
   "metadata": {},
   "source": [
    "<table>\n",
    "   <thead>\n",
    "      <tr>\n",
    "         <th>Data Science Tools</th>\n",
    "      </tr>\n",
    "   </thead>\n",
    "   <tbody>\n",
    "      <tr>\n",
    "         <td>RStudio</td>\n",
    "      </tr>\n",
    "      <tr>\n",
    "         <td>Apache spark</td>\n",
    "      </tr>\n",
    "      <tr>\n",
    "        <td>tensor flow</td>\n",
    "      </tr>\n",
    "   </tbody>\n",
    "</table>"
   ]
  },
  {
   "cell_type": "markdown",
   "id": "8a893d1c",
   "metadata": {},
   "source": [
    "### Below are a few examples of evaluating arithmetic expressions in Python"
   ]
  },
  {
   "cell_type": "code",
   "execution_count": 22,
   "id": "759dddc3",
   "metadata": {},
   "outputs": [
    {
     "data": {
      "text/plain": [
       "17"
      ]
     },
     "execution_count": 22,
     "metadata": {},
     "output_type": "execute_result"
    }
   ],
   "source": [
    "#This a simple arithmetic expression to mutiply then add integers\n",
    "(3*4)+5"
   ]
  },
  {
   "cell_type": "code",
   "execution_count": 26,
   "id": "79ad49c3",
   "metadata": {},
   "outputs": [
    {
     "name": "stdout",
     "output_type": "stream",
     "text": [
      "3.3333333333333335 hours\n"
     ]
    }
   ],
   "source": [
    "#This will convert 200 minutes to hours by diving by 60\n",
    "c=200/60\n",
    "print(c,\"hours\")"
   ]
  },
  {
   "cell_type": "markdown",
   "id": "db062dd3",
   "metadata": {},
   "source": [
    "\n",
    "<b>Objectives:</b>\n",
    "<ul>\n",
    "    <li>List popular languages for Data Science</li>\n",
    "    <li>commonly used libraries used by Data Scientists</li>\n",
    "    <li>Data science tools</li>\n",
    "</ul>"
   ]
  },
  {
   "cell_type": "markdown",
   "id": "90e119ab",
   "metadata": {},
   "source": [
    "## Author\n",
    "MOHAMMED IRFAN"
   ]
  },
  {
   "cell_type": "code",
   "execution_count": null,
   "id": "fa2edc73",
   "metadata": {},
   "outputs": [],
   "source": []
  }
 ],
 "metadata": {
  "kernelspec": {
   "display_name": "Python 3 (ipykernel)",
   "language": "python",
   "name": "python3"
  },
  "language_info": {
   "codemirror_mode": {
    "name": "ipython",
    "version": 3
   },
   "file_extension": ".py",
   "mimetype": "text/x-python",
   "name": "python",
   "nbconvert_exporter": "python",
   "pygments_lexer": "ipython3",
   "version": "3.9.12"
  }
 },
 "nbformat": 4,
 "nbformat_minor": 5
}
